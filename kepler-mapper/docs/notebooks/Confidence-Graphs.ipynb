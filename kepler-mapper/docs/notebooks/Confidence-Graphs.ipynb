{
 "cells": [
  {
   "cell_type": "markdown",
   "metadata": {},
   "source": [
    "# Confidence Graphs: Representing Model Uncertainty in Deep Learning \n",
    "\n",
    "**Hendrik Jacob van Veen** <br>\n",
    "<hendrik.vanveen@nubank.com.br> &bull; https://mlwave.com\n",
    "\n",
    "**Matheus Facure**<br>\n",
    "<matheus.facure@nubank.com.br> &bull; https://matheusfacure.github.io/\n",
    "\n",
    "## Introduction\n",
    "\n",
    "Variational inference [(MacKay, 2003)](http://www.inference.org.uk/mackay/itila/) gives a computationally tractible measure of uncertainty/confidence/variance for machine learning models, including complex black-box models, like those used in the fields of gradient boosting [(Chen et al, 2016)](https://dl.acm.org/citation.cfm?id=2939785) and deep learning [(Schmidhuber, 2014)](https://arxiv.org/abs/1404.7828).\n",
    "\n",
    "The $MAPPER$ algorithm [(Singh et al, 2007)](https://research.math.osu.edu/tgda/mapperPBG.pdf) \\[.pdf\\] from Topological Data Analysis [(Carlsson, 2009)](http://www.ams.org/journals/bull/2009-46-02/S0273-0979-09-01249-X/) turns any data or function output into a graph (or simplicial complex) which is used for data exploration [(Lum et al, 2009)](https://www.nature.com/articles/srep01236), error analysis [(Carlsson et al, 2018)](https://arxiv.org/abs/1803.00384), serving as input for higher-level machine learning algorithms [(Hofer et al, 2017)](https://arxiv.org/abs/1707.04041), and more.\n",
    "\n",
    "Dropout [(Srivastava et al, 2014)](http://jmlr.org/papers/v15/srivastava14a.html) can be viewed as an ensemble of many different sub-networks inside a single neural network, which, much like bootstrap aggregation of decision trees [(Breiman, 1996)](https://dl.acm.org/citation.cfm?id=231989), aims to combat overfit. Viewed as such, dropout is applicable as a Bayesian approximation [(Rubin, 1984)](https://projecteuclid.org/euclid.aos/1176346785) in the variational inference framework [(Gal, 2016)](http://www.cs.ox.ac.uk/people/yarin.gal/website/thesis/thesis.pdf) (.pdf)\n",
    "\n",
    "Interpretability is useful for detecting bias in and debugging errors of machine learning models. Many methods exist, such as tree paths [(Saabas, 2014)](http://blog.datadive.net/interpreting-random-forests/), saliency maps, permutation feature importance [(Altmann et al, 2010)](https://academic.oup.com/bioinformatics/article/26/10/1340/193348), locally-fit white box models [(van Veen, 2015)](https://github.com/MLWave/Black-Boxxy) [(Ribeiro et al, 2016)](https://arxiv.org/abs/1602.04938). More recent efforts aim to combine a variety of methods [(Korobov et al, 2016)](https://github.com/TeamHG-Memex/eli5) [(Olah et al, 2018)](https://distill.pub/2018/building-blocks/). \n",
    "\n",
    "## Motivation\n",
    "\n",
    "Error analysis surfaces different subsets/types of the data where a model makes fundamental errors. When building policies and making financial decisions based on the output of a model it is not only useful to study the errors of a model, but also the confidence:\n",
    "- Correct, but low-confidence, predictions for a cluster of data tells us where to focus our active learning [(Dasgupta et al, 2009)](http://hunch.net/~active_learning/) - and data collection efforts, so as to make the model more certain. \n",
    "- Incorrect, but high-confidence predictions, surface fundamental error types that can more readily be fixed by a correction layer [(Schapire, 1999)](http://rob.schapire.net/papers/Schapire99c.pdf) \\[.pdf\\], or redoing feature engineering [(Guyon et al, 2006)](https://dl.acm.org/citation.cfm?id=1208773).\n",
    "- Every profit-maximizing model has a prediction threshold where a decision is made [(Hardt et al, 2016)](https://arxiv.org/abs/1610.02413). However, given two equal predictions, the more confident predictions are preferred.\n",
    "- Interpretability methods have focussed either on explaining the model in general, or explaining a single sample. To our knowledge, not much focus has gone in a holistic view of modeled data, including explanations for subsets of similar samples (for whatever pragmatic definition of \"similar\", like \"similar age\", \"similar spend\", \"similar transaction behavior\"). The combination of interpretability and unsupervised exploratory analysis is attractive, because it catches unexpected behavior early on, as opposed to acting on faulty model output, and digging down to find a cause.\n",
    "\n",
    "\n",
    "## Experimental setup\n",
    "\n",
    "We will use the MNIST dataset [(LeCun et al, 1999)](http://yann.lecun.com/exdb/mnist/), Keras [(Chollet et al, 2015)](https://keras.io/) with TensorFlow [(Abadi et al, 2016)](https://arxiv.org/abs/1603.04467), NumPy [(van der Walt et al., 2011)](https://arxiv.org/abs/1102.1523), Pandas [(McKinney, 2010)](http://conference.scipy.org/proceedings/scipy2010/mckinney.html), Scikit-Learn [(Pedregosa et al, 2011)](http://scikit-learn.org/), Matplotlib [(Hunter, 2007)](https://matplotlib.org/), and KeplerMapper  [(Saul et al, 2017)](https://github.com/MLWave/kepler-mapper).\n",
    "\n",
    "- To classify between the digits 3 and 5, we will train a Multi-Layer Perceptron [(Ivakhnenko et al, 1965)](http://www.worldcat.org/title/cybernetic-predicting-devices/oclc/23815433) with 2 hidden layers, Backprop [(LeCun et al, 1998)](http://yann.lecun.com/exdb/publis/pdf/lecun-98b.pdf) (pdf), RELU activation [(Nair et al, 2010)](https://dl.acm.org/citation.cfm?id=3104425), ADAM optimizer [(Kingma et al, 2014)](https://arxiv.org/abs/1412.6980), dropout of 0.5, and softmax output, to classify between the digits 3 and 5.\n",
    "\n",
    "- We perform a 1000 forward passes to get the standard deviation and variance ratio of our predictions as per [(Gal, 2016, page 51)](http://www.cs.ox.ac.uk/people/yarin.gal/website/thesis/thesis.pdf) [.pdf].\n",
    "\n",
    "- Closely following the $FiFa$ method from [(Carlsson et al, 2018, page 4)](https://arxiv.org/abs/1803.00384) we then apply $MAPPER$ with the 2D filter function `[predicted probability(x), confidence(x)]` to project the data. We cover this projection with 10 10% overlapping intervals per dimension. We cluster with complete single-linkage agglomerative clustering (`n_clusters=3`) [(Ward, 1963)](https://www.jstor.org/stable/2282967) and use the penultimate layer as the inverse $X$. To guide exploration, we color the graph nodes by `mean absolute error(x)`.\n",
    "\n",
    "- We also ask predictions for the digit 4 which was never seen during training [(Larochelle et al, 2008)](https://dl.acm.org/citation.cfm?id=1620172), to see how this influences the confidence of the network, and to compare the graphs outputted by KeplerMapper.\n",
    "\n",
    "- For every graph node we show the original images. Binary classification on MNIST digits is easy enough to resort to a simple interpretability method to show what distinguishes the cluster from the rest of the data: We order each feature by z-score and highlight the top 10% features [(Singh, 2016)](https://www.ayasdi.com/blog/bigdata/5191-2/)."
   ]
  },
  {
   "cell_type": "code",
   "execution_count": 1,
   "metadata": {},
   "outputs": [
    {
     "name": "stderr",
     "output_type": "stream",
     "text": [
      "Using TensorFlow backend.\n"
     ]
    }
   ],
   "source": [
    "%matplotlib inline\n",
    "\n",
    "import keras\n",
    "from keras import backend as K\n",
    "from keras.datasets import mnist\n",
    "from keras.models import Sequential\n",
    "from keras.layers import Dense, Dropout\n",
    "from keras.optimizers import Adam\n",
    "\n",
    "import kmapper as km\n",
    "import numpy as np\n",
    "import pandas as pd\n",
    "from sklearn import metrics, cluster, preprocessing\n",
    "import xgboost as xgb\n",
    "\n",
    "from matplotlib import pyplot as plt\n",
    "plt.style.use(\"ggplot\")"
   ]
  },
  {
   "cell_type": "markdown",
   "metadata": {},
   "source": [
    "## Preparing Data\n",
    "\n",
    "We create train and test data sets for the digits 3, 4, and 5."
   ]
  },
  {
   "cell_type": "code",
   "execution_count": 2,
   "metadata": {},
   "outputs": [
    {
     "name": "stdout",
     "output_type": "stream",
     "text": [
      "11552 train samples\n",
      "1902 test samples\n",
      "1902 strange samples\n",
      "0.5310199789695058 y test mean\n"
     ]
    }
   ],
   "source": [
    "# get the data, shuffled and split between train and test sets\n",
    "(X_train, y_train), (X_test, y_test) = mnist.load_data()\n",
    "\n",
    "X_strange = X_train[y_train == 4]\n",
    "y_strange = y_train[y_train == 4]\n",
    "\n",
    "X_train = X_train[np.logical_or(y_train == 3, y_train == 5)]\n",
    "y_train = y_train[np.logical_or(y_train == 3, y_train == 5)]\n",
    "\n",
    "X_test = X_test[np.logical_or(y_test == 3, y_test == 5)]\n",
    "y_test = y_test[np.logical_or(y_test == 3, y_test == 5)]\n",
    "\n",
    "X_strange = X_strange[:X_test.shape[0]]\n",
    "y_strange = y_strange[:X_test.shape[0]]\n",
    "\n",
    "X_train = X_train.reshape(-1, 784)\n",
    "X_test = X_test.reshape(-1, 784)\n",
    "X_strange = X_strange.reshape(-1, 784)\n",
    "\n",
    "X_train = X_train.astype('float32')\n",
    "X_test = X_test.astype('float32')\n",
    "X_strange = X_strange.astype('float32')\n",
    "\n",
    "X_train /= 255\n",
    "X_test /= 255\n",
    "X_strange /= 255\n",
    "\n",
    "print(X_train.shape[0], 'train samples')\n",
    "print(X_test.shape[0], 'test samples')\n",
    "print(X_strange.shape[0], 'strange samples')\n",
    "\n",
    "# convert class vectors to binary class matrices\n",
    "y_train = (y_train == 3).astype(int)\n",
    "y_test = (y_test == 3).astype(int)\n",
    "\n",
    "y_mean_test = y_test.mean()\n",
    "print(y_mean_test, 'y test mean')"
   ]
  },
  {
   "cell_type": "markdown",
   "metadata": {},
   "source": [
    "## Model\n",
    "Model is a basic 2-hidden layer MLP with RELU activation, ADAM optimizer, and softmax output. Dropout is applied to every layer but the final."
   ]
  },
  {
   "cell_type": "code",
   "execution_count": 3,
   "metadata": {},
   "outputs": [
    {
     "name": "stdout",
     "output_type": "stream",
     "text": [
      "_________________________________________________________________\n",
      "Layer (type)                 Output Shape              Param #   \n",
      "=================================================================\n",
      "dropout_1 (Dropout)          (None, 784)               0         \n",
      "_________________________________________________________________\n",
      "dense_1 (Dense)              (None, 512)               401920    \n",
      "_________________________________________________________________\n",
      "dropout_2 (Dropout)          (None, 512)               0         \n",
      "_________________________________________________________________\n",
      "dense_2 (Dense)              (None, 512)               262656    \n",
      "_________________________________________________________________\n",
      "dropout_3 (Dropout)          (None, 512)               0         \n",
      "_________________________________________________________________\n",
      "dense_3 (Dense)              (None, 1)                 513       \n",
      "=================================================================\n",
      "Total params: 665,089\n",
      "Trainable params: 665,089\n",
      "Non-trainable params: 0\n",
      "_________________________________________________________________\n"
     ]
    }
   ],
   "source": [
    "batch_size = 128\n",
    "num_classes = 1\n",
    "epochs = 10\n",
    "\n",
    "model = Sequential()\n",
    "model.add(Dropout(0.5, input_shape=(784,)))\n",
    "model.add(Dense(512, activation='relu', input_shape=(784,)))\n",
    "model.add(Dropout(0.5))\n",
    "model.add(Dense(512, activation='relu'))\n",
    "model.add(Dropout(0.5))\n",
    "model.add(Dense(num_classes, activation='sigmoid'))\n",
    "\n",
    "model.summary()\n",
    "model.compile(loss='binary_crossentropy',\n",
    "              optimizer=Adam(),\n",
    "              metrics=['accuracy'])"
   ]
  },
  {
   "cell_type": "markdown",
   "metadata": {},
   "source": [
    "## Fitting and evaluation"
   ]
  },
  {
   "cell_type": "code",
   "execution_count": 4,
   "metadata": {},
   "outputs": [
    {
     "name": "stdout",
     "output_type": "stream",
     "text": [
      "Train on 11552 samples, validate on 1902 samples\n",
      "Epoch 1/10\n",
      "11552/11552 [==============================] - 3s 217us/step - loss: 0.2627 - acc: 0.8872 - val_loss: 0.0800 - val_acc: 0.9679\n",
      "Epoch 2/10\n",
      "11552/11552 [==============================] - 2s 161us/step - loss: 0.1389 - acc: 0.9459 - val_loss: 0.0650 - val_acc: 0.9742\n",
      "Epoch 3/10\n",
      "11552/11552 [==============================] - 1s 128us/step - loss: 0.1092 - acc: 0.9592 - val_loss: 0.0417 - val_acc: 0.9879\n",
      "Epoch 4/10\n",
      "11552/11552 [==============================] - 1s 120us/step - loss: 0.0936 - acc: 0.9657 - val_loss: 0.0388 - val_acc: 0.9869\n",
      "Epoch 5/10\n",
      "11552/11552 [==============================] - 1s 117us/step - loss: 0.0800 - acc: 0.9681 - val_loss: 0.0325 - val_acc: 0.9921\n",
      "Epoch 6/10\n",
      "11552/11552 [==============================] - 1s 115us/step - loss: 0.0730 - acc: 0.9735 - val_loss: 0.0291 - val_acc: 0.9916\n",
      "Epoch 7/10\n",
      "11552/11552 [==============================] - 1s 113us/step - loss: 0.0685 - acc: 0.9760 - val_loss: 0.0284 - val_acc: 0.9926\n",
      "Epoch 8/10\n",
      "11552/11552 [==============================] - 1s 114us/step - loss: 0.0662 - acc: 0.9761 - val_loss: 0.0269 - val_acc: 0.9953\n",
      "Epoch 9/10\n",
      "11552/11552 [==============================] - 1s 116us/step - loss: 0.0643 - acc: 0.9753 - val_loss: 0.0265 - val_acc: 0.9932\n",
      "Epoch 10/10\n",
      "11552/11552 [==============================] - 1s 114us/step - loss: 0.0606 - acc: 0.9786 - val_loss: 0.0279 - val_acc: 0.9932\n"
     ]
    },
    {
     "data": {
      "text/plain": [
       "[0.027948900684616387, 0.9931650893796005]"
      ]
     },
     "execution_count": 4,
     "metadata": {},
     "output_type": "execute_result"
    }
   ],
   "source": [
    "history = model.fit(X_train, y_train,\n",
    "                    batch_size=batch_size,\n",
    "                    epochs=epochs,\n",
    "                    verbose=1,\n",
    "                    validation_data=(X_test, y_test))\n",
    "score = model.evaluate(X_test, y_test, verbose=0)\n",
    "score"
   ]
  },
  {
   "cell_type": "markdown",
   "metadata": {},
   "source": [
    "## Perform 1000 forward passes on test set and calculate Variance Ratio and Standard Dev"
   ]
  },
  {
   "cell_type": "code",
   "execution_count": 5,
   "metadata": {},
   "outputs": [
    {
     "name": "stdout",
     "output_type": "stream",
     "text": [
      "0.9905362776025236\n",
      "            y_true       y_pred           VR          STD\n",
      "count  1902.000000  1902.000000  1902.000000  1902.000000\n",
      "mean      0.531020     0.544015     0.021121     0.053761\n",
      "std       0.499168     0.471939     0.067162     0.077280\n",
      "min       0.000000     0.000001     0.000000     0.000010\n",
      "25%       0.000000     0.006608     0.000000     0.004060\n",
      "50%       1.000000     0.911458     0.000000     0.020484\n",
      "75%       1.000000     0.998069     0.005000     0.064760\n",
      "max       1.000000     0.999999     0.500000     0.367364\n"
     ]
    }
   ],
   "source": [
    "FP = 1000\n",
    "predict_stochastic = K.function([model.layers[0].input, K.learning_phase()], [model.layers[-1].output])\n",
    "\n",
    "y_pred_test = np.array([predict_stochastic([X_test, 1]) for _ in range(FP)])\n",
    "y_pred_stochastic_test = y_pred_test.reshape(-1,y_test.shape[0]).T\n",
    "\n",
    "y_pred_std_test = np.std(y_pred_stochastic_test, axis=1)\n",
    "y_pred_mean_test = np.mean(y_pred_stochastic_test, axis=1)\n",
    "y_pred_mode_test = (np.mean(y_pred_stochastic_test > .5, axis=1) > .5).astype(int).reshape(-1,1)\n",
    "\n",
    "y_pred_var_ratio_test = 1 - np.mean((y_pred_stochastic_test > .5) == y_pred_mode_test, axis=1)\n",
    "\n",
    "test_analysis = pd.DataFrame({\n",
    "    \"y_true\": y_test,\n",
    "    \"y_pred\": y_pred_mean_test,\n",
    "    \"VR\": y_pred_var_ratio_test,\n",
    "    \"STD\": y_pred_std_test\n",
    "})\n",
    "\n",
    "print(metrics.accuracy_score(y_true=y_test, y_pred=y_pred_mean_test > .5))\n",
    "print(test_analysis.describe())"
   ]
  },
  {
   "cell_type": "markdown",
   "metadata": {},
   "source": [
    "## Plot test set confidence"
   ]
  },
  {
   "cell_type": "code",
   "execution_count": 6,
   "metadata": {},
   "outputs": [
    {
     "data": {
      "image/png": "[encoded data removed]",
      "text/plain": [
       "<Figure size 1152x576 with 1 Axes>"
      ]
     },
     "metadata": {},
     "output_type": "display_data"
    },
    {
     "data": {
      "image/png": "[encoded data removed]",
      "text/plain": [
       "<Figure size 1152x576 with 1 Axes>"
      ]
     },
     "metadata": {},
     "output_type": "display_data"
    }
   ],
   "source": [
    "prediction_cut_off = (test_analysis.y_pred < .96) & (test_analysis.y_pred > .94)\n",
    "std_diff = test_analysis.STD[prediction_cut_off].max() - test_analysis.STD[prediction_cut_off].min() \n",
    "vr_diff = test_analysis.VR[prediction_cut_off].max() - test_analysis.VR[prediction_cut_off].min() \n",
    "num_preds = test_analysis.STD[prediction_cut_off].shape[0]\n",
    "\n",
    "# STD plot\n",
    "plt.figure(figsize=(16,8))\n",
    "plt.suptitle(\"Standard Deviation of Test Predictions\", fontsize=18, weight=\"bold\")\n",
    "plt.title(\"For the %d predictions between 0.94 and 0.96 the STD varies with %f\"%(num_preds, std_diff),\n",
    "         style=\"italic\")\n",
    "plt.xlabel(\"Standard Deviation\")\n",
    "plt.ylabel(\"Predicted Probability\")\n",
    "plt.scatter(test_analysis.STD, test_analysis.y_pred, alpha=.3)\n",
    "plt.scatter(test_analysis.STD[prediction_cut_off],\n",
    "            test_analysis.y_pred[prediction_cut_off])\n",
    "plt.show()\n",
    "\n",
    "# VR plot\n",
    "plt.figure(figsize=(16,8))\n",
    "plt.suptitle(\"Variance Ratio of Test Predictions\", fontsize=18, weight=\"bold\")\n",
    "plt.title(\"For the %d predictions between 0.94 and 0.96 the Variance Ratio varies with %f\"%(num_preds, vr_diff),\n",
    "         style=\"italic\")\n",
    "plt.xlabel(\"Variance Ratio\")\n",
    "plt.ylabel(\"Predicted Probability\")\n",
    "plt.scatter(test_analysis.VR, test_analysis.y_pred, alpha=.3)\n",
    "plt.scatter(test_analysis.VR[prediction_cut_off],\n",
    "            test_analysis.y_pred[prediction_cut_off])\n",
    "plt.show()"
   ]
  },
  {
   "cell_type": "markdown",
   "metadata": {},
   "source": [
    "## Apply $MAPPER$\n",
    "\n",
    "### Take penultimate layer activations from test set for the inverse $X$"
   ]
  },
  {
   "cell_type": "code",
   "execution_count": 7,
   "metadata": {},
   "outputs": [
    {
     "name": "stdout",
     "output_type": "stream",
     "text": [
      "((1902, 512), 'X_inverse_test shape')\n"
     ]
    }
   ],
   "source": [
    "predict_penultimate_layer =  K.function([model.layers[0].input, K.learning_phase()], [model.layers[-2].output])\n",
    "\n",
    "X_inverse_test = np.array(predict_penultimate_layer([X_test, 1]))[0]\n",
    "print((X_inverse_test.shape, \"X_inverse_test shape\"))"
   ]
  },
  {
   "cell_type": "markdown",
   "metadata": {},
   "source": [
    "### Take STD and error as the projected $X$"
   ]
  },
  {
   "cell_type": "code",
   "execution_count": 8,
   "metadata": {},
   "outputs": [
    {
     "name": "stdout",
     "output_type": "stream",
     "text": [
      "((1902, 2), 'X_projected_test shape')\n"
     ]
    }
   ],
   "source": [
    "X_projected_test = np.c_[test_analysis.STD, test_analysis.y_true - test_analysis.y_pred]\n",
    "print((X_projected_test.shape, \"X_projected_test shape\"))"
   ]
  },
  {
   "cell_type": "markdown",
   "metadata": {},
   "source": [
    "### Create the confidence graph $G$"
   ]
  },
  {
   "cell_type": "code",
   "execution_count": 9,
   "metadata": {},
   "outputs": [
    {
     "name": "stdout",
     "output_type": "stream",
     "text": [
      "KeplerMapper()\n",
      "Mapping on data shaped (1902, 512) using lens shaped (1902, 2)\n",
      "\n",
      "Minimal points in hypercube before clustering: 2\n",
      "Creating 100 hypercubes.\n",
      "There are 0 points in cube_0 / 100\n",
      "Cube_0 is empty.\n",
      "\n",
      "There are 0 points in cube_1 / 100\n",
      "Cube_1 is empty.\n",
      "\n",
      "There are 0 points in cube_2 / 100\n",
      "Cube_2 is empty.\n",
      "\n",
      "There are 0 points in cube_3 / 100\n",
      "Cube_3 is empty.\n",
      "\n",
      "There are 0 points in cube_4 / 100\n",
      "Cube_4 is empty.\n",
      "\n",
      "There are 1437 points in cube_5 / 100\n",
      "Found 2 clusters in cube_5\n",
      "\n",
      "There are 1437 points in cube_6 / 100\n",
      "Found 2 clusters in cube_6\n",
      "\n",
      "There are 0 points in cube_7 / 100\n",
      "Cube_7 is empty.\n",
      "\n",
      "There are 0 points in cube_8 / 100\n",
      "Cube_8 is empty.\n",
      "\n",
      "There are 0 points in cube_9 / 100\n",
      "Cube_9 is empty.\n",
      "\n",
      "There are 1 points in cube_10 / 100\n",
      "Cube_10 is empty.\n",
      "\n",
      "There are 0 points in cube_11 / 100\n",
      "Cube_11 is empty.\n",
      "\n",
      "There are 0 points in cube_12 / 100\n",
      "Cube_12 is empty.\n",
      "\n",
      "There are 0 points in cube_13 / 100\n",
      "Cube_13 is empty.\n",
      "\n",
      "There are 0 points in cube_14 / 100\n",
      "Cube_14 is empty.\n",
      "\n",
      "There are 382 points in cube_15 / 100\n",
      "Found 2 clusters in cube_15\n",
      "\n",
      "There are 364 points in cube_16 / 100\n",
      "Found 2 clusters in cube_16\n",
      "\n",
      "There are 0 points in cube_17 / 100\n",
      "Cube_17 is empty.\n",
      "\n",
      "There are 0 points in cube_18 / 100\n",
      "Cube_18 is empty.\n",
      "\n",
      "There are 0 points in cube_19 / 100\n",
      "Cube_19 is empty.\n",
      "\n",
      "There are 1 points in cube_20 / 100\n",
      "Cube_20 is empty.\n",
      "\n",
      "There are 0 points in cube_21 / 100\n",
      "Cube_21 is empty.\n",
      "\n",
      "There are 0 points in cube_22 / 100\n",
      "Cube_22 is empty.\n",
      "\n",
      "There are 0 points in cube_23 / 100\n",
      "Cube_23 is empty.\n",
      "\n",
      "There are 14 points in cube_24 / 100\n",
      "Found 2 clusters in cube_24\n",
      "\n",
      "There are 203 points in cube_25 / 100\n",
      "Found 2 clusters in cube_25\n",
      "\n",
      "There are 144 points in cube_26 / 100\n",
      "Found 2 clusters in cube_26\n",
      "\n",
      "There are 0 points in cube_27 / 100\n",
      "Cube_27 is empty.\n",
      "\n",
      "There are 0 points in cube_28 / 100\n",
      "Cube_28 is empty.\n",
      "\n",
      "There are 0 points in cube_29 / 100\n",
      "Cube_29 is empty.\n",
      "\n",
      "There are 0 points in cube_30 / 100\n",
      "Cube_30 is empty.\n",
      "\n",
      "There are 0 points in cube_31 / 100\n",
      "Cube_31 is empty.\n",
      "\n",
      "There are 0 points in cube_32 / 100\n",
      "Cube_32 is empty.\n",
      "\n",
      "There are 0 points in cube_33 / 100\n",
      "Cube_33 is empty.\n",
      "\n",
      "There are 42 points in cube_34 / 100\n",
      "Found 2 clusters in cube_34\n",
      "\n",
      "There are 124 points in cube_35 / 100\n",
      "Found 2 clusters in cube_35\n",
      "\n",
      "There are 65 points in cube_36 / 100\n",
      "Found 2 clusters in cube_36\n",
      "\n",
      "There are 2 points in cube_37 / 100\n",
      "Found 2 clusters in cube_37\n",
      "\n",
      "There are 0 points in cube_38 / 100\n",
      "Cube_38 is empty.\n",
      "\n",
      "There are 0 points in cube_39 / 100\n",
      "Cube_39 is empty.\n",
      "\n",
      "There are 0 points in cube_40 / 100\n",
      "Cube_40 is empty.\n",
      "\n",
      "There are 0 points in cube_41 / 100\n",
      "Cube_41 is empty.\n",
      "\n",
      "There are 0 points in cube_42 / 100\n",
      "Cube_42 is empty.\n",
      "\n",
      "There are 1 points in cube_43 / 100\n",
      "Cube_43 is empty.\n",
      "\n",
      "There are 52 points in cube_44 / 100\n",
      "Found 2 clusters in cube_44\n",
      "\n",
      "There are 69 points in cube_45 / 100\n",
      "Found 2 clusters in cube_45\n",
      "\n",
      "There are 37 points in cube_46 / 100\n",
      "Found 2 clusters in cube_46\n",
      "\n",
      "There are 8 points in cube_47 / 100\n",
      "Found 2 clusters in cube_47\n",
      "\n",
      "There are 0 points in cube_48 / 100\n",
      "Cube_48 is empty.\n",
      "\n",
      "There are 0 points in cube_49 / 100\n",
      "Cube_49 is empty.\n",
      "\n",
      "There are 0 points in cube_50 / 100\n",
      "Cube_50 is empty.\n",
      "\n",
      "There are 0 points in cube_51 / 100\n",
      "Cube_51 is empty.\n",
      "\n",
      "There are 0 points in cube_52 / 100\n",
      "Cube_52 is empty.\n",
      "\n",
      "There are 6 points in cube_53 / 100\n",
      "Found 2 clusters in cube_53\n",
      "\n",
      "There are 50 points in cube_54 / 100\n",
      "Found 2 clusters in cube_54\n",
      "\n",
      "There are 42 points in cube_55 / 100\n",
      "Found 2 clusters in cube_55\n",
      "\n",
      "There are 23 points in cube_56 / 100\n",
      "Found 2 clusters in cube_56\n",
      "\n",
      "There are 15 points in cube_57 / 100\n",
      "Found 2 clusters in cube_57\n",
      "\n",
      "There are 1 points in cube_58 / 100\n",
      "Cube_58 is empty.\n",
      "\n",
      "There are 0 points in cube_59 / 100\n",
      "Cube_59 is empty.\n",
      "\n",
      "There are 4 points in cube_60 / 100\n",
      "Found 2 clusters in cube_60\n",
      "\n",
      "There are 6 points in cube_61 / 100\n",
      "Found 2 clusters in cube_61\n",
      "\n",
      "There are 2 points in cube_62 / 100\n",
      "Found 2 clusters in cube_62\n",
      "\n",
      "There are 17 points in cube_63 / 100\n",
      "Found 2 clusters in cube_63\n",
      "\n",
      "There are 42 points in cube_64 / 100\n",
      "Found 2 clusters in cube_64\n",
      "\n",
      "There are 18 points in cube_65 / 100\n",
      "Found 2 clusters in cube_65\n",
      "\n",
      "There are 15 points in cube_66 / 100\n",
      "Found 2 clusters in cube_66\n",
      "\n",
      "There are 22 points in cube_67 / 100\n",
      "Found 2 clusters in cube_67\n",
      "\n",
      "There are 5 points in cube_68 / 100\n",
      "Found 2 clusters in cube_68\n",
      "\n",
      "There are 0 points in cube_69 / 100\n",
      "Cube_69 is empty.\n",
      "\n",
      "There are 4 points in cube_70 / 100\n",
      "Found 2 clusters in cube_70\n",
      "\n",
      "There are 7 points in cube_71 / 100\n",
      "Found 2 clusters in cube_71\n",
      "\n",
      "There are 9 points in cube_72 / 100\n",
      "Found 2 clusters in cube_72\n",
      "\n",
      "There are 28 points in cube_73 / 100\n",
      "Found 2 clusters in cube_73\n",
      "\n",
      "There are 28 points in cube_74 / 100\n",
      "Found 2 clusters in cube_74\n",
      "\n",
      "There are 3 points in cube_75 / 100\n",
      "Found 2 clusters in cube_75\n",
      "\n",
      "There are 8 points in cube_76 / 100\n",
      "Found 2 clusters in cube_76\n",
      "\n",
      "There are 20 points in cube_77 / 100\n",
      "Found 2 clusters in cube_77\n",
      "\n",
      "There are 8 points in cube_78 / 100\n",
      "Found 2 clusters in cube_78\n",
      "\n",
      "There are 0 points in cube_79 / 100\n",
      "Cube_79 is empty.\n",
      "\n",
      "There are 0 points in cube_80 / 100\n",
      "Cube_80 is empty.\n",
      "\n",
      "There are 7 points in cube_81 / 100\n",
      "Found 2 clusters in cube_81\n",
      "\n",
      "There are 23 points in cube_82 / 100\n",
      "Found 2 clusters in cube_82\n",
      "\n",
      "There are 29 points in cube_83 / 100\n",
      "Found 2 clusters in cube_83\n",
      "\n",
      "There are 14 points in cube_84 / 100\n",
      "Found 2 clusters in cube_84\n",
      "\n",
      "There are 0 points in cube_85 / 100\n",
      "Cube_85 is empty.\n",
      "\n",
      "There are 1 points in cube_86 / 100\n",
      "Cube_86 is empty.\n",
      "\n",
      "There are 8 points in cube_87 / 100\n",
      "Found 2 clusters in cube_87\n",
      "\n",
      "There are 6 points in cube_88 / 100\n",
      "Found 2 clusters in cube_88\n",
      "\n",
      "There are 1 points in cube_89 / 100\n",
      "Cube_89 is empty.\n",
      "\n",
      "There are 0 points in cube_90 / 100\n",
      "Cube_90 is empty.\n",
      "\n",
      "There are 4 points in cube_91 / 100\n",
      "Found 2 clusters in cube_91\n",
      "\n",
      "There are 14 points in cube_92 / 100\n",
      "Found 2 clusters in cube_92\n",
      "\n",
      "There are 14 points in cube_93 / 100\n",
      "Found 2 clusters in cube_93\n",
      "\n",
      "There are 4 points in cube_94 / 100\n",
      "Found 2 clusters in cube_94\n",
      "\n",
      "There are 0 points in cube_95 / 100\n",
      "Cube_95 is empty.\n",
      "\n",
      "There are 0 points in cube_96 / 100\n",
      "Cube_96 is empty.\n",
      "\n",
      "There are 1 points in cube_97 / 100\n",
      "Cube_97 is empty.\n",
      "\n",
      "There are 2 points in cube_98 / 100\n",
      "Found 2 clusters in cube_98\n",
      "\n",
      "There are 2 points in cube_99 / 100\n",
      "Found 2 clusters in cube_99\n",
      "\n",
      "\n",
      "Created 267 edges and 100 nodes in 0:00:02.503639.\n"
     ]
    }
   ],
   "source": [
    "mapper = km.KeplerMapper(verbose=2)\n",
    "G = mapper.map(X_projected_test,\n",
    "               X_inverse_test,\n",
    "               clusterer=cluster.AgglomerativeClustering(n_clusters=2),\n",
    "               overlap_perc=0.8,\n",
    "               nr_cubes=10)"
   ]
  },
  {
   "cell_type": "markdown",
   "metadata": {},
   "source": [
    "### Create color function output (absolute error)"
   ]
  },
  {
   "cell_type": "code",
   "execution_count": 10,
   "metadata": {},
   "outputs": [],
   "source": [
    "color_function_output = np.sqrt((y_test-test_analysis.y_pred)**2)"
   ]
  },
  {
   "cell_type": "markdown",
   "metadata": {},
   "source": [
    "### Create image tooltips for samples that are interpretable for humans"
   ]
  },
  {
   "cell_type": "code",
   "execution_count": 11,
   "metadata": {},
   "outputs": [
    {
     "name": "stderr",
     "output_type": "stream",
     "text": [
      "/Users/sauln/libraries/kepler-mapper/venv/lib/python3.6/site-packages/ipykernel_launcher.py:11: RuntimeWarning: invalid value encountered in true_divide\n",
      "  # This is added back by InteractiveShellApp.init_path()\n",
      "/Users/sauln/libraries/kepler-mapper/venv/lib/python3.6/site-packages/ipykernel_launcher.py:36: DeprecationWarning: `imresize` is deprecated!\n",
      "`imresize` is deprecated in SciPy 1.0.0, and will be removed in 1.2.0.\n",
      "Use ``skimage.transform.resize`` instead.\n",
      "/Users/sauln/libraries/kepler-mapper/venv/lib/python3.6/site-packages/ipykernel_launcher.py:37: DeprecationWarning: `toimage` is deprecated!\n",
      "`toimage` is deprecated in SciPy 1.0.0, and will be removed in 1.2.0.\n",
      "Use Pillow's ``Image.fromarray`` directly instead.\n",
      "/Users/sauln/libraries/kepler-mapper/venv/lib/python3.6/site-packages/ipykernel_launcher.py:48: DeprecationWarning: `imresize` is deprecated!\n",
      "`imresize` is deprecated in SciPy 1.0.0, and will be removed in 1.2.0.\n",
      "Use ``skimage.transform.resize`` instead.\n",
      "/Users/sauln/libraries/kepler-mapper/venv/lib/python3.6/site-packages/ipykernel_launcher.py:48: DeprecationWarning: `toimage` is deprecated!\n",
      "`toimage` is deprecated in SciPy 1.0.0, and will be removed in 1.2.0.\n",
      "Use Pillow's ``Image.fromarray`` directly instead.\n"
     ]
    }
   ],
   "source": [
    "import io\n",
    "import base64\n",
    "from scipy.misc import toimage, imsave, imresize\n",
    "\n",
    "# Create z-scores\n",
    "hard_predictions = (test_analysis.y_pred > 0.5).astype(int)\n",
    "\n",
    "o = np.std(X_test, axis=0)\n",
    "u = np.mean(X_test[hard_predictions == 0], axis=0)\n",
    "v = np.mean(X_test[hard_predictions == 1], axis=0)\n",
    "z_scores = (u-v)/o\n",
    "\n",
    "scores_0 = sorted([(score,i) for i, score in enumerate(z_scores) if str(score) != \"nan\"],\n",
    "               reverse=False)\n",
    "scores_1 = sorted([(score,i) for i, score in enumerate(z_scores) if str(score) != \"nan\"],\n",
    "               reverse=True)\n",
    "\n",
    "# Fill RGBA image array with top 200 scores for positive and negative\n",
    "img_array_0 = np.zeros((28,28,4))\n",
    "img_array_1 = np.zeros((28,28,4))\n",
    "\n",
    "for e, (score, i) in enumerate(scores_0[:200]):\n",
    "    y = i % 28\n",
    "    x = int((i - (i % 28))/28)\n",
    "    img_array_0[x][y] = [255,255,0,205-e]\n",
    "    \n",
    "for e, (score, i) in enumerate(scores_1[:200]):\n",
    "    y = i % 28\n",
    "    x = int((i - (i % 28))/28)\n",
    "    img_array_1[x][y] = [255,0,0,205-e]\n",
    "\n",
    "img_array = (img_array_0 + img_array_1) / 2\n",
    "\n",
    "# Get base64 encoded version of this\n",
    "output = io.BytesIO()\n",
    "img = imresize(img_array, (64,64))\n",
    "img = toimage(img)\n",
    "\n",
    "img.save(output, format=\"PNG\")\n",
    "contents = output.getvalue()\n",
    "explanation_img_encoded = base64.b64encode(contents)    \n",
    "output.close()\n",
    "\n",
    "# Create tooltips for each digit\n",
    "tooltip_s = []\n",
    "for ys, image_data in zip(y_test, X_test):\n",
    "    output = io.BytesIO()\n",
    "    img = toimage(imresize(image_data.reshape((28,28)), (64,64))) # Data was a flat row of \"pixels\".\n",
    "    img.save(output, format=\"PNG\")\n",
    "    contents = output.getvalue()\n",
    "    img_encoded = base64.b64encode(contents)\n",
    "    img_tag =  \"\"\"<div style=\"width:71px;\n",
    "                             height:71px;\n",
    "                             overflow:hidden;\n",
    "                             float:left;\n",
    "                             position: relative;\">\n",
    "                 <img src=\"data:image/png;base64,%s\" style=\"position:absolute; top:0; right:0\" />\n",
    "                 <img src=\"data:image/png;base64,%s\" style=\"position:absolute; top:0; right:0;\n",
    "                                                            opacity:0.5; width: 64px; height: 64px;\" />\n",
    "                 <div style=\"position: relative; top: 0; left: 1px; font-size:9px\">%s</div>\n",
    "                 </div>\"\"\"%((img_encoded.decode('utf-8'),\n",
    "                             explanation_img_encoded.decode('utf-8'),\n",
    "                             ys))\n",
    "    \n",
    "    tooltip_s.append(img_tag)\n",
    "    output.close()\n",
    "tooltip_s = np.array(tooltip_s)"
   ]
  },
  {
   "cell_type": "markdown",
   "metadata": {},
   "source": [
    "### Visualize"
   ]
  },
  {
   "cell_type": "code",
   "execution_count": 12,
   "metadata": {},
   "outputs": [
    {
     "name": "stdout",
     "output_type": "stream",
     "text": [
      "Wrote visualization to: confidence_graph_output.html\n"
     ]
    }
   ],
   "source": [
    "_ = mapper.visualize(G,\n",
    "                     lens=X_projected_test,\n",
    "                     lens_names=[\"Uncertainty\", \"Error\"],\n",
    "                     custom_tooltips=tooltip_s,\n",
    "                     color_values=color_function_output.values,\n",
    "                     title=\"Confidence Graph for a MLP trained on MNIST\",\n",
    "                     path_html=\"confidence_graph_output.html\")"
   ]
  },
  {
   "cell_type": "code",
   "execution_count": 13,
   "metadata": {
    "scrolled": false
   },
   "outputs": [
    {
     "data": {
      "text/html": [
       "<style>\n",
       "    .container { width:100% !important; }\n",
       "    .output_scroll {height: 800px !important;}\n",
       "    </style>"
      ],
      "text/plain": [
       "<IPython.core.display.HTML object>"
      ]
     },
     "metadata": {},
     "output_type": "display_data"
    },
    {
     "data": {
      "text/html": [
       "<iframe src=confidence_graph_output.html width=100%% height=800 frameBorder=\"0\"></iframe>"
      ],
      "text/plain": [
       "<IPython.core.display.HTML object>"
      ]
     },
     "metadata": {},
     "output_type": "display_data"
    }
   ],
   "source": [
    "from kmapper import jupyter\n",
    "jupyter.display(\"confidence_graph_output.html\")"
   ]
  },
  {
   "cell_type": "markdown",
   "metadata": {},
   "source": [
    "## Image of output\n",
    "![img](https://i.imgur.com/EycZWRR.png)\n",
    "## Link to output\n",
    "http://mlwave.github.io/tda/confidence-graphs.html"
   ]
  },
  {
   "cell_type": "code",
   "execution_count": null,
   "metadata": {},
   "outputs": [],
   "source": []
  }
 ],
 "metadata": {
  "kernelspec": {
   "display_name": "Python 3",
   "language": "python",
   "name": "python3"
  },
  "language_info": {
   "codemirror_mode": {
    "name": "ipython",
    "version": 3
   },
   "file_extension": ".py",
   "mimetype": "text/x-python",
   "name": "python",
   "nbconvert_exporter": "python",
   "pygments_lexer": "ipython3",
   "version": "3.6.4"
  }
 },
 "nbformat": 4,
 "nbformat_minor": 1
}
