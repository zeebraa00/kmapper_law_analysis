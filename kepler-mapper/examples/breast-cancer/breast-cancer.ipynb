{
 "cells": [
  {
   "cell_type": "markdown",
   "metadata": {},
   "source": [
    "## Plotly plot of the kmapper graph associated to the breast cancer dataset"
   ]
  },
  {
   "cell_type": "code",
   "execution_count": 1,
   "metadata": {},
   "outputs": [
    {
     "name": "stderr",
     "output_type": "stream",
     "text": [
      "/Users/sauln/libraries/kepler-mapper/venv/lib/python3.6/site-packages/sklearn/ensemble/weight_boosting.py:29: DeprecationWarning: numpy.core.umath_tests is an internal NumPy module and should not be imported. It will be removed in a future NumPy release.\n",
      "  from numpy.core.umath_tests import inner1d\n"
     ]
    }
   ],
   "source": [
    "import sys\n",
    "try:\n",
    "    import pandas as pd\n",
    "except ImportError as e:\n",
    "    print(\"pandas is required for this example. Please install with conda or pip  and then try again.\")\n",
    "    sys.exit()\n",
    "\n",
    "import numpy as np\n",
    "import sklearn\n",
    "from sklearn import ensemble\n",
    "import kmapper as km\n",
    "from kmapper.plotlyviz import *\n",
    "\n",
    "import warnings\n",
    "warnings.filterwarnings(\"ignore\")"
   ]
  },
  {
   "cell_type": "code",
   "execution_count": 2,
   "metadata": {},
   "outputs": [],
   "source": [
    "import plotly.graph_objs as go\n",
    "from ipywidgets import (HBox, VBox)"
   ]
  },
  {
   "cell_type": "code",
   "execution_count": 3,
   "metadata": {},
   "outputs": [],
   "source": [
    "# Data - the Wisconsin Breast Cancer Dataset\n",
    "# https://www.kaggle.com/uciml/breast-cancer-wisconsin-data\n",
    "df = pd.read_csv(\"data.csv\")\n",
    "feature_names = [c for c in df.columns if c not in [\"id\", \"diagnosis\"]]\n",
    "df[\"diagnosis\"] = df[\"diagnosis\"].apply(lambda x: 1 if x == \"M\" else 0)\n",
    "X = np.array(df[feature_names].fillna(0))\n",
    "y = np.array(df[\"diagnosis\"])\n",
    "\n",
    "# Create a custom 1-D lens with Isolation Forest\n",
    "model = ensemble.IsolationForest(random_state=1729)\n",
    "model.fit(X)\n",
    "lens1 = model.decision_function(X).reshape((X.shape[0], 1))\n",
    "\n",
    "# Create another 1-D lens with L2-norm\n",
    "mapper = km.KeplerMapper(verbose=0)\n",
    "lens2 = mapper.fit_transform(X, projection=\"l2norm\")\n",
    "\n",
    "# Combine both lenses to get a 2-D [Isolation Forest, L^2-Norm] lens\n",
    "lens = np.c_[lens1, lens2]\n",
    "\n",
    "# Define the simplicial complex\n",
    "scomplex = mapper.map(lens,\n",
    "                      X,\n",
    "                      nr_cubes=15,\n",
    "                      overlap_perc=0.7,\n",
    "                      clusterer=sklearn.cluster.KMeans(n_clusters=2,\n",
    "                                                       random_state=3471))\n"
   ]
  },
  {
   "cell_type": "markdown",
   "metadata": {},
   "source": [
    "First we visualize the resulting graph via a   `color_function` that associates to lens data   their  x-coordinate distance to min, and  colormap these coordinates  to a given Plotly colorscale. Here we use the brewer colorscale with hex color codes."
   ]
  },
  {
   "cell_type": "code",
   "execution_count": 4,
   "metadata": {},
   "outputs": [],
   "source": [
    "pl_brewer = [[0.0, '#006837'],\n",
    "             [0.1, '#1a9850'],\n",
    "             [0.2, '#66bd63'],\n",
    "             [0.3, '#a6d96a'],\n",
    "             [0.4, '#d9ef8b'],\n",
    "             [0.5, '#ffffbf'],\n",
    "             [0.6, '#fee08b'],\n",
    "             [0.7, '#fdae61'],\n",
    "             [0.8, '#f46d43'],\n",
    "             [0.9, '#d73027'],\n",
    "             [1.0, '#a50026']]"
   ]
  },
  {
   "cell_type": "code",
   "execution_count": 5,
   "metadata": {},
   "outputs": [],
   "source": [
    "color_values = lens [:,0] - lens[:,0].min()\n",
    "my_colorscale = pl_brewer\n",
    "kmgraph,  mapper_summary, colorf_distribution = get_mapper_graph(scomplex, \n",
    "                                                                 color_values,  \n",
    "                                                                 color_function_name='Distance to x-min', \n",
    "                                                                 colorscale=my_colorscale)\n",
    "\n",
    "# assign to node['custom_tooltips']  the node label (0 for benign, 1 for malignant)\n",
    "for node in kmgraph['nodes']:\n",
    "    node['custom_tooltips'] = y[scomplex['nodes'][node['name']]]                         "
   ]
  },
  {
   "cell_type": "markdown",
   "metadata": {},
   "source": [
    "Since the chosen colorscale leads  to a few light colors when it it used for histogram bars,\n",
    "we set a black background color to make the bars visible:"
   ]
  },
  {
   "cell_type": "code",
   "execution_count": 6,
   "metadata": {},
   "outputs": [],
   "source": [
    "bgcolor = 'rgba(10,10,10, 0.9)'\n",
    "y_gridcolor = 'rgb(150,150,150)'# on a black background the gridlines are set on  grey"
   ]
  },
  {
   "cell_type": "code",
   "execution_count": 7,
   "metadata": {},
   "outputs": [],
   "source": [
    "plotly_graph_data = plotly_graph(kmgraph, graph_layout='fr', colorscale=my_colorscale, \n",
    "                                 factor_size=2.5, edge_linewidth=0.5)\n",
    "layout = plot_layout(title='Topological network representing the<br>  breast cancer  dataset',  \n",
    "                     width=620, height=570,\n",
    "                     annotation_text=get_kmgraph_meta(mapper_summary),  \n",
    "                     bgcolor=bgcolor)\n",
    "\n",
    "fw_graph = go.FigureWidget(data=plotly_graph_data, layout=layout)\n",
    "fw_hist = node_hist_fig(colorf_distribution, bgcolor=bgcolor,\n",
    "                        y_gridcolor=y_gridcolor)\n",
    "fw_summary = summary_fig(mapper_summary, height=300)\n",
    "dashboard = hovering_widgets(kmgraph, \n",
    "                             fw_graph, \n",
    "                             ctooltips=True, # ctooltips = True, because we assigned a label to each \n",
    "                                             #cluster member\n",
    "                             bgcolor=bgcolor,\n",
    "                             y_gridcolor=y_gridcolor, \n",
    "                             member_textbox_width=600)\n",
    "\n",
    "#Update the fw_graph colorbar, setting its title:\n",
    "    \n",
    "fw_graph.data[1].marker.colorbar.title = 'dist to<br>x-min'\n"
   ]
  },
  {
   "cell_type": "code",
   "execution_count": 8,
   "metadata": {},
   "outputs": [
    {
     "data": {
      "application/vnd.jupyter.widget-view+json": {
       "model_id": "d0db6511d24e41559796e19790eaaa18",
       "version_major": 2,
       "version_minor": 0
      },
      "text/plain": [
       "VBox(children=(FigureWidget({\n",
       "    'data': [{'hoverinfo': 'none',\n",
       "              'line': {'color': 'rgb(180,180,…"
      ]
     },
     "metadata": {},
     "output_type": "display_data"
    }
   ],
   "source": [
    "VBox([fw_graph, HBox([fw_summary, fw_hist])])"
   ]
  },
  {
   "cell_type": "code",
   "execution_count": 9,
   "metadata": {},
   "outputs": [
    {
     "data": {
      "application/vnd.jupyter.widget-view+json": {
       "model_id": "c161aace7dd94dafa186ec9e662996ae",
       "version_major": 2,
       "version_minor": 0
      },
      "text/plain": [
       "VBox(children=(HBox(children=(FigureWidget({\n",
       "    'data': [{'hoverinfo': 'none',\n",
       "              'line': {'color'…"
      ]
     },
     "metadata": {},
     "output_type": "display_data"
    }
   ],
   "source": [
    "dashboard"
   ]
  },
  {
   "cell_type": "markdown",
   "metadata": {},
   "source": [
    "In the following we illustrate how  we can duplicate FigureWidget(s) and update them. This is just a pretext to\n",
    "illustrate how the kmapper graph figure can be manipulated for a more in-depth study or for \n",
    "publication."
   ]
  },
  {
   "cell_type": "markdown",
   "metadata": {},
   "source": [
    "Here we duplicate the initial FigureWidget, `fw_graph`,  and recolor its  graph nodes according to the proportion of malignant members. The two FigureWidgets are then restyled and plotted alonside each other for comparison."
   ]
  },
  {
   "cell_type": "code",
   "execution_count": 10,
   "metadata": {},
   "outputs": [],
   "source": [
    "breastc_dict = {0: 'benign', 1: 'malignant'}\n",
    "tooltips = list(fw_graph.data[1].text) # we perform this conversion because fw.data[1].text is a tuple and we want to update\n",
    "                                     # the tooltips\n",
    "\n",
    "new_color = []\n",
    "for j, node in enumerate(kmgraph['nodes']):\n",
    "    member_label_ids = y[scomplex['nodes'][node['name']]]\n",
    "    member_labels = [breastc_dict[id] for id in member_label_ids]\n",
    "    label_type, label_counts = np.unique(member_labels, return_counts=True) \n",
    "    \n",
    "    n_members = label_counts.sum()\n",
    "    if label_type.shape[0] == 1:\n",
    "        if label_type[0] == 'benign':\n",
    "            new_color.append(0)\n",
    "        else:\n",
    "            new_color.append(1)\n",
    "    else:        \n",
    "        new_color.append(1.0*label_counts[1]/n_members)#multiply by 1 for python 2.7.+\n",
    "       \n",
    "    for m in range(len(label_counts)):\n",
    "        tooltips[j] += '<br>' + str(label_type[m]) + ': ' + str(label_counts[m]) # append  how many benign/malign \n",
    "                                                                                 # members exist in each node\n",
    "\n",
    "fwn_graph = go.FigureWidget(fw_graph) # copy the initial FigureWidget\n",
    "\n",
    "with fwn_graph.batch_update(): # make updates for the new figure                                                                \n",
    "    fwn_graph.data[1].text = tooltips # add the new tooltips\n",
    "    fwn_graph.data[1].marker.colorbar.x = -0.14 # place toolbar at the figure left side\n",
    "    fwn_graph.layout.width = 550 # change the figure size in order to plot two \"parallel\" copies\n",
    "    fwn_graph.layout.height = 550\n",
    "    fwn_graph.layout.margin.r = 45 # decrease the right margin from 60px (default val) to 45 pixels\n",
    "    \n",
    "fw1 = go.FigureWidget(fwn_graph) # define a new figure from  the fwn_graph that will be colored by the new color function  \n",
    "with fw1.batch_update():\n",
    "    fw1.data[1].marker.color = new_color # update node colors\n",
    "    fw1.data[0].line.color = 'rgb(125,125,125)' # update the graph edge color\n",
    "    fw1.layout.plot_bgcolor = 'rgb(240,240,240)'\n",
    "    fw1.layout.annotations = None # remove the mapper_summary from the second plot\n",
    "    fw1.data[1].marker.showscale = False # remove the colorbar\n",
    "    fw1.layout.title = \"Nodes are colored according to the proportion<br> of malignant members\""
   ]
  },
  {
   "cell_type": "markdown",
   "metadata": {},
   "source": [
    "Plot  the dashboard consisting in the two figures:"
   ]
  },
  {
   "cell_type": "code",
   "execution_count": 11,
   "metadata": {},
   "outputs": [
    {
     "data": {
      "application/vnd.jupyter.widget-view+json": {
       "model_id": "8d0a70b8c9ab4989a4ac7800a385bd59",
       "version_major": 2,
       "version_minor": 0
      },
      "text/plain": [
       "HBox(children=(FigureWidget({\n",
       "    'data': [{'hoverinfo': 'none',\n",
       "              'line': {'color': 'rgb(180,180,…"
      ]
     },
     "metadata": {},
     "output_type": "display_data"
    }
   ],
   "source": [
    "HBox([fwn_graph, fw1])"
   ]
  },
  {
   "cell_type": "markdown",
   "metadata": {},
   "source": [
    "To save any of the FigureWidgets generated above uncomment the two lines  in the next cell, and replace `fw_graph` and the name of pdf file\n",
    "adequately:"
   ]
  },
  {
   "cell_type": "code",
   "execution_count": null,
   "metadata": {},
   "outputs": [],
   "source": [
    "#import plotly.io as pio\n",
    "#pio.write_image(fw_graph, 'breast-graph1.pdf') # or png, swg"
   ]
  },
  {
   "cell_type": "code",
   "execution_count": null,
   "metadata": {},
   "outputs": [],
   "source": []
  }
 ],
 "metadata": {
  "kernelspec": {
   "display_name": "Python 3",
   "language": "python",
   "name": "python3"
  },
  "language_info": {
   "codemirror_mode": {
    "name": "ipython",
    "version": 3
   },
   "file_extension": ".py",
   "mimetype": "text/x-python",
   "name": "python",
   "nbconvert_exporter": "python",
   "pygments_lexer": "ipython3",
   "version": "3.6.4"
  }
 },
 "nbformat": 4,
 "nbformat_minor": 2
}
