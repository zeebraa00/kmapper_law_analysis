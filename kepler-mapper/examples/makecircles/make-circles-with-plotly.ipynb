{
 "cells": [
  {
   "cell_type": "markdown",
   "metadata": {},
   "source": [
    "## Visualizing a  kepler-mapper graph with Plotly ##"
   ]
  },
  {
   "cell_type": "markdown",
   "metadata": {},
   "source": [
    "This notebook illustrates a simple example to define a kepler-mapper graph and display it as an instance of\n",
    "the Plotly  `FigureWidget` or\n",
    "`Figure` class."
   ]
  },
  {
   "cell_type": "code",
   "execution_count": 1,
   "metadata": {},
   "outputs": [],
   "source": [
    "import kmapper as km\n",
    "import sklearn\n",
    "from sklearn import datasets\n",
    "#for Plotly visualization import:\n",
    "from kmapper.plotlyviz import plotlyviz\n",
    "from kmapper.plotlyviz import *\n",
    "import plotly.graph_objs as go"
   ]
  },
  {
   "cell_type": "code",
   "execution_count": 2,
   "metadata": {},
   "outputs": [],
   "source": [
    "data, labels = datasets.make_circles(n_samples=5000, noise=0.05, factor=0.3)\n",
    "\n",
    "# Initialize\n",
    "mapper = km.KeplerMapper(verbose=0)\n",
    "\n",
    "# Fit to and transform the data\n",
    "lens = mapper.fit_transform(data, projection=[0])\n",
    "\n",
    "# Create dictionary called 'simplicial_complex' with nodes, edges and meta-information\n",
    "simplicial_complex = mapper.map(lens, X=data,\n",
    "                                clusterer=sklearn.cluster.DBSCAN(eps=0.1, min_samples=10),\n",
    "                                cover=km.Cover(n_cubes=20, perc_overlap=0.1))"
   ]
  },
  {
   "cell_type": "code",
   "execution_count": 3,
   "metadata": {},
   "outputs": [
    {
     "data": {
      "application/vnd.jupyter.widget-view+json": {
       "model_id": "ca82644d2f634374889aceba8025c7ba",
       "version_major": 2,
       "version_minor": 0
      },
      "text/plain": [
       "FigureWidget({\n",
       "    'data': [{'hoverinfo': 'none',\n",
       "              'line': {'color': 'rgb(180,180,180)', 'width':…"
      ]
     },
     "metadata": {},
     "output_type": "display_data"
    }
   ],
   "source": [
    "title = 'Kepler-Mapper graph  for circles dataset with<br> Kamada-Kawai layout'\n",
    "plotlyviz(simplicial_complex, title=title)"
   ]
  },
  {
   "cell_type": "code",
   "execution_count": null,
   "metadata": {},
   "outputs": [],
   "source": []
  }
 ],
 "metadata": {
  "kernelspec": {
   "display_name": "Python 3",
   "language": "python",
   "name": "python3"
  },
  "language_info": {
   "codemirror_mode": {
    "name": "ipython",
    "version": 3
   },
   "file_extension": ".py",
   "mimetype": "text/x-python",
   "name": "python",
   "nbconvert_exporter": "python",
   "pygments_lexer": "ipython3",
   "version": "3.6.4"
  }
 },
 "nbformat": 4,
 "nbformat_minor": 2
}
