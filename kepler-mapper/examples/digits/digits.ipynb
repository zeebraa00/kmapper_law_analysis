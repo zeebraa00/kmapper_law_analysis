{
 "cells": [
  {
   "cell_type": "markdown",
   "metadata": {},
   "source": [
    "### Digits dataset"
   ]
  },
  {
   "cell_type": "code",
   "execution_count": 1,
   "metadata": {},
   "outputs": [],
   "source": [
    "%load_ext autoreload\n",
    "%autoreload 2"
   ]
  },
  {
   "cell_type": "code",
   "execution_count": 2,
   "metadata": {},
   "outputs": [],
   "source": [
    "import numpy as np\n",
    "import sklearn\n",
    "from sklearn import datasets\n",
    "try:\n",
    "    import umap\n",
    "except ImportError:\n",
    "    print(\"This example requires the UMAP library. You can install it with the command `!pip install umap-learn`\")\n",
    "import warnings\n",
    "warnings.filterwarnings(\"ignore\")"
   ]
  },
  {
   "cell_type": "code",
   "execution_count": 3,
   "metadata": {},
   "outputs": [],
   "source": [
    "import kmapper as km\n",
    "from kmapper.plotlyviz import plotlyviz\n",
    "from kmapper.plotlyviz import *\n",
    "import plotly.graph_objs as go\n",
    "import ipywidgets as ipw"
   ]
  },
  {
   "cell_type": "code",
   "execution_count": 4,
   "metadata": {},
   "outputs": [],
   "source": [
    "data, labels = datasets.load_digits().data, datasets.load_digits().target"
   ]
  },
  {
   "cell_type": "code",
   "execution_count": null,
   "metadata": {},
   "outputs": [],
   "source": [
    "mapper = km.KeplerMapper(verbose=0)\n",
    "\n",
    "projected_data = mapper.fit_transform(data, projection=umap.UMAP(n_neighbors=8,\n",
    "                                                                 min_dist=0.65,\n",
    "                                                                 n_components=2,\n",
    "                                                                 metric='euclidean',\n",
    "                                                                 random_state=3571))\n",
    "\n",
    "# Get the simplicial complex  \n",
    "scomplex = mapper.map(projected_data,\n",
    "                      clusterer=sklearn.cluster.DBSCAN(eps=0.3, min_samples=15),\n",
    "                      coverer=km.Cover(35, 0.9))"
   ]
  },
  {
   "cell_type": "markdown",
   "metadata": {},
   "source": [
    "The mapper graph nodes associated to this data set are colored according to the `color_values` values with Viridis colorscale,\n",
    "which is the default color scale, defined in `plotlyviz`."
   ]
  },
  {
   "cell_type": "code",
   "execution_count": null,
   "metadata": {},
   "outputs": [],
   "source": [
    "color_values = projected_data[:, 1]-projected_data[:, 1].min()\n",
    "plotlyviz(scomplex, \n",
    "          title='Mapper graph of digits dataset',\n",
    "          color_values=color_values, \n",
    "          color_function_name='Distance to y-min', \n",
    "          node_linecolor='rgb(100,100,100)',\n",
    "          bgcolor='rgb(240,240,240)',\n",
    "          width=620, height=620,\n",
    "          summary_height=350,\n",
    "          summary_left=10,\n",
    "          hist_left=25,\n",
    "          hist_right=10,\n",
    "          graph_data=True)"
   ]
  },
  {
   "cell_type": "code",
   "execution_count": null,
   "metadata": {},
   "outputs": [],
   "source": [
    "color_values = projected_data[:, 1]-projected_data[:, 1].min()\n",
    "plotlyviz(scomplex, \n",
    "          title='Mapper graph of digits dataset',\n",
    "          color_values=color_values, \n",
    "          color_function_name='Distance to y-min', \n",
    "          node_linecolor='rgb(100,100,100)',\n",
    "          bgcolor='rgb(240,240,240)',\n",
    "          width=620, height=620,\n",
    "          summary_height=350,\n",
    "          summary_left=10,\n",
    "          hist_left=25,\n",
    "          hist_right=10,\n",
    "          member_textbox_width=500,\n",
    "          dashboard=True)"
   ]
  },
  {
   "cell_type": "code",
   "execution_count": null,
   "metadata": {},
   "outputs": [],
   "source": []
  }
 ],
 "metadata": {
  "kernelspec": {
   "display_name": "Python 3",
   "language": "python",
   "name": "python3"
  },
  "language_info": {
   "codemirror_mode": {
    "name": "ipython",
    "version": 3
   },
   "file_extension": ".py",
   "mimetype": "text/x-python",
   "name": "python",
   "nbconvert_exporter": "python",
   "pygments_lexer": "ipython3",
   "version": "3.6.4"
  }
 },
 "nbformat": 4,
 "nbformat_minor": 2
}
